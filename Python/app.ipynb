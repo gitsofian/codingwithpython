{
 "cells": [
  {
   "cell_type": "markdown",
   "metadata": {},
   "source": [
    "# Python\n",
    "1.Hello World"
   ]
  },
  {
   "cell_type": "code",
   "execution_count": null,
   "metadata": {},
   "outputs": [],
   "source": [
    "# BMI rechenen\n",
    "\n",
    "gewicht = float(input('Bitte geben Sie Ihr Gewicht: '))\n",
    "\n",
    "groesse = float(input('Bitte geben Sie Ihr Grösse in Meter: '))\n",
    "\n",
    "bmi = round(gewicht / groesse**2)\n",
    "\n",
    "if bmi < 18.5:\n",
    "    print('Untergewicht')\n",
    "elif 18.5 < bmi < 24.9:\n",
    "    print('Normalgewicht')\n",
    "elif 25 < bmi < 29.9:\n",
    "    print('Übergewicht')\n",
    "else:\n",
    "    print('Sie sind Fettleibigkeit!')\n",
    "    \n",
    "print('BMI: '+str(bmi))"
   ]
  },
  {
   "cell_type": "markdown",
   "metadata": {},
   "source": [
    "# 1.03.2022\n"
   ]
  },
  {
   "cell_type": "code",
   "execution_count": null,
   "metadata": {},
   "outputs": [],
   "source": [
    "# BMI rechenen\n",
    "\n",
    "gewicht = float(input('Bitte geben Sie Ihr Gewicht: '))\n",
    "\n",
    "groesse = float(input('Bitte geben Sie Ihr Grösse in Meter: '))\n",
    "\n",
    "bmi = round(gewicht / groesse**2)\n",
    "\n",
    "if bmi < 18.5:\n",
    "    print('Untergewicht')\n",
    "elif 18.5 < bmi < 24.9:\n",
    "    print('Normalgewicht')\n",
    "elif 25 < bmi < 29.9:\n",
    "    print('Übergewicht')\n",
    "else:\n",
    "    print('Sie sind Fettleibigkeit!')\n",
    "    \n",
    "print('BMI: '+ str(bmi))"
   ]
  },
  {
   "cell_type": "markdown",
   "metadata": {},
   "source": [
    "# 01.03.2022\n",
    "* 1 Aufage\n",
    "* liter die der Tank eures autos maximal fasst\n",
    "* kosten euro/liter\n",
    "* wieviel ihr tankt in liter\n",
    "* ausgabe der summe der getanken liter"
   ]
  },
  {
   "cell_type": "code",
   "execution_count": null,
   "metadata": {},
   "outputs": [],
   "source": [
    "max_tank_in_liter = float(input('Wieviel die maximal liter eures Auto :'))\n",
    "liter_preis = float(input('Bitte geben Sie die Preis in Euro pro Liter :'))\n",
    "liter_getanken= float(input('Wieviel Liter möchten Sie getanken :'))\n",
    "\n",
    "while liter_getanken > max_tank_in_liter:\n",
    "    print('Sie können nicht mehr tanken!')\n",
    "    liter_getanken= float(input('Wieviel Liter möchten Sie getanken :'))\n",
    "    \n",
    "\n",
    "summe_in_euro = liter_getanken * liter_preis\n",
    "print('Der Betrag, den ich bezahlen muss :%2.0f €' %(summe_in_euro))"
   ]
  },
  {
   "cell_type": "markdown",
   "metadata": {},
   "source": [
    "* zweite Aufgabe\n",
    "* ausgabe zu wie viel % der Tank gefüllt ist.\n",
    "* wenn der Tank unter 10% gefüllt ist: Ausgabe \"Reserve, bitte tanken!\"\n",
    "* wenn der Tank zwischen !!% und 100% gefüllt ist: ausgabe \"Alles OK!\"\n",
    "* wenn der Tank zu mehr "
   ]
  },
  {
   "cell_type": "code",
   "execution_count": null,
   "metadata": {},
   "outputs": [],
   "source": [
    "max_tank_in_liter = float(input('Wieviel die maximal Liter eures Autos :'))\n",
    "liter_preis = float(input('Bitte geben Sie die Preis in Euro pro Liter :'))\n",
    "liter_getanken= float(input('Wieviel Liter möchten Sie getanken :'))\n",
    "\n",
    "gefuellt = liter_getanken * max_tank_in_liter/100\n",
    "\n",
    "if gefuellt <=10:\n",
    "    print('Reserve, bitte tanken!!!')\n",
    "elif 10<gefuellt<100:\n",
    "    print('Alles ist OK!!')\n",
    "elif gefuellt > 100:\n",
    "    print('Ab der Werkstadt gehen!')\n",
    "else:\n",
    "    print('Irgendwas ist schief gelaufet!!')"
   ]
  },
  {
   "cell_type": "markdown",
   "metadata": {},
   "source": [
    "* Aufgabe 3\n",
    "* \n"
   ]
  },
  {
   "cell_type": "code",
   "execution_count": null,
   "metadata": {},
   "outputs": [],
   "source": [
    "der_Tag = int(input('Bitte geben Sie den heutezutage: '))\n",
    "    \n",
    "while der_Tag > 31 or der_Tag < 1:\n",
    "    print('Bitte geben Sie ein rechtige Tag zwischen 1 und 31')\n",
    "    der_Tag = int(input('Bitte geben Sie den heutezutage: '))\n",
    "        \n",
    "der_Monat = int(input('Bitte geben Sie den aktuel Monat :'))\n",
    "while der_Monat > 12 or der_Monat < 1:\n",
    "    print('Bitte geben Sie den aktuel Monat zwischen 1 und 12')\n",
    "    der_Monat = int(input('Bitte geben Sie den aktuel Monat :'))\n",
    "\n",
    "tages_des_monats =[31,28,31,30,31,30,31,31,30,31,30,31]\n",
    "tages = tages_des_monats[0:der_Monat-1]\n",
    "\n",
    "summe = der_Tag\n",
    "for t in tages:\n",
    "    summe+=t\n",
    "    \n",
    "print(f'Insgesamte Tage von dem Anfang des Jahrs {summe} Tage!')\n"
   ]
  },
  {
   "cell_type": "markdown",
   "metadata": {},
   "source": [
    "# 02.03.2022"
   ]
  },
  {
   "cell_type": "code",
   "execution_count": null,
   "metadata": {},
   "outputs": [],
   "source": [
    "## List alle ungerade Zahle\n",
    "\n",
    "count = 0\n",
    "for number in range(1, 120):\n",
    "    if (number % 2) == 0:\n",
    "        print(number)\n",
    "        count += 1\n",
    "print(f\"wir haben {count} even number\")\n"
   ]
  },
  {
   "cell_type": "markdown",
   "metadata": {},
   "source": [
    "# 03.03.2022"
   ]
  },
  {
   "cell_type": "markdown",
   "metadata": {},
   "source": [
    "Schreibe ein Programm, das eine beliebige natürliche Zahl m einlist und dann m Zeilen von Sternen in Reihenfolge ausgibt.\n",
    "für m = 4 also:\n",
    "\n",
    "*\n",
    "**\n",
    "***\n",
    "****"
   ]
  },
  {
   "cell_type": "code",
   "execution_count": null,
   "metadata": {},
   "outputs": [],
   "source": [
    "\n",
    "n = int(input('Bitte geben Sie ein Zahl ein :'))\n",
    "\n",
    "for i in range(0,n+1):\n",
    "    print(i*'*')\n"
   ]
  },
  {
   "cell_type": "markdown",
   "metadata": {},
   "source": [
    "Schreibe ein Programm, das eine beliebige natürliche Zahl m einlist und dann m Zeilen von Sternen in ungekehrter Reihenfolge ausgibt.\n",
    "für m = 4 also:\n",
    "****\n",
    "***\n",
    "**\n",
    "*"
   ]
  },
  {
   "cell_type": "code",
   "execution_count": 2,
   "metadata": {},
   "outputs": [
    {
     "name": "stdout",
     "output_type": "stream",
     "text": [
      "****\n",
      "***\n",
      "**\n",
      "*\n",
      "\n"
     ]
    }
   ],
   "source": [
    "n = int(input('Bitte geben Sie ein Zahl ein :'))\n",
    "\n",
    "for i in range(n+1):\n",
    "    print((n-i)*'*')\n"
   ]
  }
 ],
 "metadata": {
  "interpreter": {
   "hash": "1707a6a3bc69415dce5eb158c23e49542084c147ee0520d7867cb149d8032b1c"
  },
  "kernelspec": {
   "display_name": "Python 3.10.1 64-bit",
   "language": "python",
   "name": "python3"
  },
  "language_info": {
   "codemirror_mode": {
    "name": "ipython",
    "version": 3
   },
   "file_extension": ".py",
   "mimetype": "text/x-python",
   "name": "python",
   "nbconvert_exporter": "python",
   "pygments_lexer": "ipython3",
   "version": "3.10.1"
  },
  "orig_nbformat": 4
 },
 "nbformat": 4,
 "nbformat_minor": 2
}
