{
 "cells": [
  {
   "cell_type": "markdown",
   "metadata": {},
   "source": [
    "# Python\n",
    "\n",
    "1.Hello World\n"
   ]
  },
  {
   "cell_type": "code",
   "execution_count": null,
   "metadata": {},
   "outputs": [],
   "source": [
    "%load_ext nb_black\n",
    "%load_ext pycodestyle_magic \n",
    "%pycodestyle_on\n"
   ]
  },
  {
   "cell_type": "markdown",
   "metadata": {},
   "source": [
    "#### 28.02.2022\n",
    "\n",
    "---\n"
   ]
  },
  {
   "cell_type": "code",
   "execution_count": null,
   "metadata": {},
   "outputs": [],
   "source": [
    "# BMI rechenen\n",
    "\n",
    "gewicht = float(input('Bitte geben Sie Ihr Gewicht: '))\n",
    "\n",
    "groesse = float(input('Bitte geben Sie Ihr Grösse in Meter: '))\n",
    "\n",
    "bmi = round(gewicht / groesse**2)\n",
    "\n",
    "if bmi < 18.5:\n",
    "    print('Untergewicht')\n",
    "elif 18.5 < bmi < 24.9:\n",
    "    print('Normalgewicht')\n",
    "elif 25 < bmi < 29.9:\n",
    "    print('Übergewicht')\n",
    "else:\n",
    "    print('Sie sind Fettleibigkeit!')\n",
    "    \n",
    "print('BMI: '+str(bmi))"
   ]
  },
  {
   "cell_type": "code",
   "execution_count": null,
   "metadata": {},
   "outputs": [],
   "source": [
    "\n",
    "gewicht = float(input('Bitte geben Sie Ihr Gewicht: '))\n",
    "\n",
    "groesse = float(input('Bitte geben Sie Ihr Grösse in Meter: '))\n",
    "\n",
    "bmi = round(gewicht / groesse**2)\n",
    "\n",
    "if bmi < 18.5:\n",
    "    print('Untergewicht')\n",
    "elif 18.5 < bmi < 24.9:\n",
    "    print('Normalgewicht')\n",
    "elif 25 < bmi < 29.9:\n",
    "    print('Übergewicht')\n",
    "else:\n",
    "    print('Sie sind Fettleibigkeit!')\n",
    "    \n",
    "print('BMI: '+str(bmi))"
   ]
  },
  {
   "cell_type": "markdown",
   "metadata": {},
   "source": [
    "##### 1.03.2022\n",
    "\n",
    "---\n"
   ]
  },
  {
   "cell_type": "code",
   "execution_count": null,
   "metadata": {},
   "outputs": [],
   "source": [
    "# BMI rechnen\n",
    "\n",
    "gewicht = float(input('Bitte geben Sie Ihr Gewicht: '))\n",
    "\n",
    "groesse = float(input('Bitte geben Sie Ihr Grösse in Meter: '))\n",
    "\n",
    "bmi = round(gewicht / groesse**2)\n",
    "\n",
    "if bmi < 18.5:\n",
    "    print('Untergewicht')\n",
    "elif 18.5 < bmi < 24.9:\n",
    "    print('Normalgewicht')\n",
    "elif 25 < bmi < 29.9:\n",
    "    print('Übergewicht')\n",
    "else:\n",
    "    print('Sie sind Fettleibigkeit!')\n",
    "    \n",
    "print('BMI: '+ str(bmi))"
   ]
  },
  {
   "cell_type": "markdown",
   "metadata": {},
   "source": [
    "- 1 Aufage\n",
    "- liter die der Tank eures autos maximal fasst\n",
    "- kosten euro/liter\n",
    "- wieviel ihr tankt in liter\n",
    "- ausgabe der summe der getanken liter\n"
   ]
  },
  {
   "cell_type": "code",
   "execution_count": null,
   "metadata": {},
   "outputs": [],
   "source": [
    "max_tank_in_liter = float(input('Wieviel die maximal liter eures Auto :'))\n",
    "liter_preis = float(input('Bitte geben Sie die Preis in Euro pro Liter :'))\n",
    "liter_getanken= float(input('Wieviel Liter möchten Sie getanken :'))\n",
    "\n",
    "while liter_getanken > max_tank_in_liter:\n",
    "    print('Sie können nicht mehr tanken!')\n",
    "    liter_getanken= float(input('Wieviel Liter möchten Sie getanken :'))\n",
    "    \n",
    "\n",
    "summe_in_euro = liter_getanken * liter_preis\n",
    "print('Der Betrag, den ich bezahlen muss :%2.0f €' %(summe_in_euro))"
   ]
  },
  {
   "cell_type": "markdown",
   "metadata": {},
   "source": [
    "- zweite Aufgabe\n",
    "- ausgabe zu wie viel % der Tank gefüllt ist.\n",
    "- wenn der Tank unter 10% gefüllt ist: Ausgabe \"Reserve, bitte tanken!\"\n",
    "- wenn der Tank zwischen !!% und 100% gefüllt ist: ausgabe \"Alles OK!\"\n",
    "- wenn der Tank zu mehr\n"
   ]
  },
  {
   "cell_type": "code",
   "execution_count": null,
   "metadata": {},
   "outputs": [],
   "source": [
    "max_tank_in_liter = float(input('Wieviel die maximal Liter eures Autos :'))\n",
    "liter_preis = float(input('Bitte geben Sie die Preis in Euro pro Liter :'))\n",
    "liter_getanken= float(input('Wieviel Liter möchten Sie getanken :'))\n",
    "\n",
    "gefuellt = liter_getanken * max_tank_in_liter/100\n",
    "\n",
    "if gefuellt <=10:\n",
    "    print('Reserve, bitte tanken!!!')\n",
    "elif 10<gefuellt<100:\n",
    "    print('Alles ist OK!!')\n",
    "elif gefuellt > 100:\n",
    "    print('Ab der Werkstadt gehen!')\n",
    "else:\n",
    "    print('Irgendwas ist schief gelaufet!!')"
   ]
  },
  {
   "cell_type": "markdown",
   "metadata": {},
   "source": [
    "- Aufgabe 3\n",
    "-\n"
   ]
  },
  {
   "cell_type": "code",
   "execution_count": null,
   "metadata": {},
   "outputs": [],
   "source": [
    "der_Tag = int(input('Bitte geben Sie den heutezutage: '))\n",
    "    \n",
    "while der_Tag > 31 or der_Tag < 1:\n",
    "    print('Bitte geben Sie ein rechtige Tag zwischen 1 und 31')\n",
    "    der_Tag = int(input('Bitte geben Sie den heutezutage: '))\n",
    "        \n",
    "der_Monat = int(input('Bitte geben Sie den aktuel Monat :'))\n",
    "while der_Monat > 12 or der_Monat < 1:\n",
    "    print('Bitte geben Sie den aktuel Monat zwischen 1 und 12')\n",
    "    der_Monat = int(input('Bitte geben Sie den aktuel Monat :'))\n",
    "\n",
    "tages_des_monats =[31,28,31,30,31,30,31,31,30,31,30,31]\n",
    "tages = tages_des_monats[0:der_Monat-1]\n",
    "\n",
    "summe = der_Tag\n",
    "for t in tages:\n",
    "    summe+=t\n",
    "    \n",
    "print(f'Insgesamte Tage von dem Anfang des Jahrs {summe} Tage!')\n"
   ]
  },
  {
   "cell_type": "markdown",
   "metadata": {},
   "source": [
    "#### 02.03.2022\n",
    "\n",
    "---\n"
   ]
  },
  {
   "cell_type": "code",
   "execution_count": null,
   "metadata": {},
   "outputs": [],
   "source": [
    "## List alle ungerade Zahle\n",
    "\n",
    "count = 0\n",
    "for number in range(1, 120):\n",
    "    if (number % 2) == 0:\n",
    "        print(number)\n",
    "        count += 1\n",
    "print(f\"wir haben {count} even number\")\n"
   ]
  },
  {
   "cell_type": "markdown",
   "metadata": {},
   "source": [
    "#### 03.03.2022\n",
    "\n",
    "---\n"
   ]
  },
  {
   "cell_type": "markdown",
   "metadata": {},
   "source": [
    "Schreibe ein Programm, das eine beliebige natürliche Zahl m einlist und dann m Zeilen von Sternen in Reihenfolge ausgibt.\n",
    "für m = 4 also:\n",
    "\n",
    "` * ** *** ****`\n"
   ]
  },
  {
   "cell_type": "code",
   "execution_count": null,
   "metadata": {},
   "outputs": [],
   "source": [
    "n = int(input('Bitte geben Sie ein Zahl ein :'))\n",
    "\n",
    "for i in range(0,n+1):\n",
    "    print(i*'*')\n",
    "    "
   ]
  },
  {
   "cell_type": "markdown",
   "metadata": {},
   "source": [
    "Schreibe ein Programm, das eine beliebige natürliche Zahl m einlist und dann m Zeilen von Sternen in ungekehrter Reihenfolge ausgibt.\n",
    "für m = 4 also:\n",
    "\n",
    "` **** *** ** *`\n"
   ]
  },
  {
   "cell_type": "code",
   "execution_count": null,
   "metadata": {},
   "outputs": [],
   "source": [
    "n = int(input('Bitte geben Sie ein Zahl ein :'))\n",
    "\n",
    "for i in range(n+1):\n",
    "    print((n-i)*'*')\n"
   ]
  },
  {
   "cell_type": "markdown",
   "metadata": {},
   "source": [
    "Schreibe ein Programm, das eine beliebige String einlist und diesen dann buchstabenweise ausgibt.\n",
    "für 'Banane'\n",
    "B\n",
    "a\n",
    "n\n",
    "a\n",
    "n\n",
    "e\n"
   ]
  },
  {
   "cell_type": "code",
   "execution_count": null,
   "metadata": {},
   "outputs": [],
   "source": [
    "wort = input('Bitte geben Sie ein String ein :')\n",
    "for w in wort:\n",
    "    print(w)\n"
   ]
  },
  {
   "cell_type": "markdown",
   "metadata": {},
   "source": [
    "Schreiben ein Programm, das einen beliebigen String einlist, in diesem String sollen alle 'a' durch ein '*' ersetzt werden.\n",
    "Beispiel:\n",
    "Wort: Banane\n",
    "ausgabe: B*n\\*ne\n"
   ]
  },
  {
   "cell_type": "code",
   "execution_count": null,
   "metadata": {},
   "outputs": [],
   "source": [
    "wort = input('Bitte geben Sie ein String ein :')\n",
    "\n",
    "neu_wort = \"\"\n",
    "for w in wort:\n",
    "    if w == 'a':\n",
    "        neu_wort += '*'\n",
    "    else:\n",
    "        neu_wort += w\n",
    "\n",
    "print(neu_wort)\n",
    "\n",
    "# with replace function\n",
    "neu_wort=\"\"\n",
    "neu_wort = wort.replace(\"a\", \"*\")\n",
    "print(neu_wort)"
   ]
  },
  {
   "cell_type": "markdown",
   "metadata": {},
   "source": [
    "#### 04.03.2022\n",
    "\n",
    "---\n"
   ]
  },
  {
   "cell_type": "markdown",
   "metadata": {},
   "source": [
    "Schreibe ein Programm, das eine beliebige naturliche Zahl einliest.\n",
    "Benutze eine for-Schleife, um alle ungerade Zahlen, die zwischen 1 und der eingebenen Zahl liegen, auszugeben.\n",
    "Beispiel:\n",
    "Zahl : 10\n",
    "Ausgabe: 1, 3,5,7,9\n"
   ]
  },
  {
   "cell_type": "code",
   "execution_count": null,
   "metadata": {},
   "outputs": [],
   "source": [
    "zahl = int(input(\"Geben Sie eine Zahl ein :\"))\n",
    "\n",
    "ausgabe = \"\"\n",
    "count=0\n",
    "\n",
    "for n in range(zahl):\n",
    "    if  n % 2:\n",
    "        ausgabe += str(n) + \",\"\n",
    "        count +=1\n",
    "print(\"Es gibt %d ungerade Zahlen bis %d sind : %s\" % (count, zahl, ausgabe))"
   ]
  },
  {
   "cell_type": "markdown",
   "metadata": {},
   "source": [
    "Schreibe ein Programm, das eine beliebige naturliche Zahl einliest.\n",
    "Benutze eine for-Schleife, um alle Primezahl, die zwischen 1 und der eingebenen Zahl liegen, auszugeben.\n",
    "Beispiel:\n",
    "Zahl : 10\n",
    "Ausgabe: 1, 2, 3, 5, 7\n"
   ]
  },
  {
   "cell_type": "code",
   "execution_count": null,
   "metadata": {},
   "outputs": [],
   "source": [
    "import sympy as sym\n",
    "\n",
    "zahl = int(input(\"Geben Sie eine Zahl ein :\"))\n",
    "\n",
    "ausgabe = \"\"\n",
    "count=0\n",
    "\n",
    "for n in range(zahl):\n",
    "    if  sym.isprime(n):\n",
    "        ausgabe += str(n) + \",\"\n",
    "        count +=1\n",
    "print(\"Es gibt %d Primzahlen bis %d : %s\" % (count, zahl, ausgabe))\n",
    "print(\"Es gibt {0:.2f} Primzahlen bis {1} : {2}\".format(count, zahl, ausgabe))\n"
   ]
  },
  {
   "cell_type": "markdown",
   "metadata": {},
   "source": [
    "Schreibe ein Programm, das ein Rechteck aus Strenen augibt.\n",
    "Daszu müssen die Höhe und die Breite des Rechtecks als natürliche Zahlen eingelesen werden.\n",
    "Die Ausgabe soll beispielweise so ausehen:\n",
    "Die Höhe ist : 4\n",
    "Die Breite ist : 3\n",
    "\n",
    "---\n",
    "\n",
    "---\n",
    "\n",
    "---\n",
    "\n",
    "---\n"
   ]
  },
  {
   "cell_type": "code",
   "execution_count": null,
   "metadata": {},
   "outputs": [],
   "source": [
    "breite = int(input(\"Bitte gib eine Höhe ein :\"))\n",
    "hoehe = int(input(\"Bitte gib eine Breite ein :\"))\n",
    "\n",
    "for h in range(hoehe):\n",
    "    print(breite*'*')\n",
    "print(\"Es gibt insgesamt {} Sterne!\".format(breite*hoehe))"
   ]
  },
  {
   "cell_type": "markdown",
   "metadata": {},
   "source": [
    "1. `Hello+hello` return"
   ]
  },
  {
   "cell_type": "code",
   "execution_count": null,
   "metadata": {},
   "outputs": [],
   "source": [
    "name: str = 'Kaki!'\n",
    "total = 10.11 + 12.12\n",
    "2*total + 11\n",
    "print(f\"Hello, {name}\")"
   ]
  },
  {
   "cell_type": "code",
   "execution_count": null,
   "metadata": {},
   "outputs": [],
   "source": []
  },
  {
   "cell_type": "markdown",
   "metadata": {},
   "source": [
    "### 07.03.2022"
   ]
  },
  {
   "cell_type": "code",
   "execution_count": null,
   "metadata": {},
   "outputs": [],
   "source": [
    "breite = int(input(\"Bitte gib eine Höhe ein :\"))\n",
    "hoehe = int(input(\"Bitte gib eine Breite ein :\"))\n",
    "\n",
    "h=0\n",
    "\n",
    "while h < hoehe:\n",
    "    print(breite * '*')    \n",
    "    h+=1\n",
    "\n",
    "print(\"Es gibt insgesamt {} Sterne!\".format(breite*hoehe))"
   ]
  },
  {
   "cell_type": "code",
   "execution_count": null,
   "metadata": {},
   "outputs": [],
   "source": [
    "wort = input('Bitte geben Sie ein String ein :')\n",
    "\n",
    "## init die Variabel\n",
    "neues_wort = \"\"\n",
    "i = 0\n",
    "\n",
    "while i < len(wort):\n",
    "    if wort[i] == 'a':\n",
    "        neues_wort += '*'\n",
    "    else:\n",
    "        neues_wort += wort[i]\n",
    "    i+=1\n",
    "\n",
    "print(neues_wort)\n"
   ]
  },
  {
   "cell_type": "code",
   "execution_count": null,
   "metadata": {},
   "outputs": [],
   "source": [
    "def o_schreiben(buch):\n",
    "    \n",
    "    print(9*' ' + 2*'*')\n",
    "    print(4*' ' + 2*'*' + 8*' ' + 2*'*')\n",
    "    print(4*' ' + 2*'*' + 8*' ' + 2*'*')\n",
    "    print(9*' ' + 2*'*')\n",
    "\n",
    "o_schreiben('a')"
   ]
  },
  {
   "cell_type": "markdown",
   "metadata": {},
   "source": [
    "Schreibe ein Programm, mit einer Funktion, die drei Übergabeparameter akzeptiert.\n",
    "Die Übergabeparameter sind:\n",
    "- Wort\n",
    "- Buchstabe, der ersetzt werden soll Bsp. 'a'\n",
    "- Zeichen, mit dem der Buchstabe ersetzt werden soll. Bsp. '*'\n",
    "- Die Funktion soll das neu Wort mit den ersetzten Buchstaben zurück geben"
   ]
  },
  {
   "cell_type": "code",
   "execution_count": null,
   "metadata": {},
   "outputs": [],
   "source": [
    "wort = input('Bitte geben Sie ein Wort ein :')\n",
    "ch = input('Bitte geben Sie ein Buchstabe ein :')\n",
    "zh = input('Bitte geben Sie ein Zeichen ein :')\n",
    "\n",
    "\n",
    "def buchstabenErsetzen(wort, ch, zh):\n",
    "    neues_wort = ''\n",
    "    for w in wort:\n",
    "        if w == ch:\n",
    "            neues_wort += zh\n",
    "        else:\n",
    "            neues_wort += w\n",
    "    \n",
    "    return neues_wort\n",
    "\n",
    "print(buchstabenErsetzen(wort, ch, zh))\n"
   ]
  },
  {
   "cell_type": "markdown",
   "metadata": {},
   "source": [
    "### 08.03.2022\n",
    "1. camelCase\n",
    "2. snake_case\n",
    "3. kebap-case\n",
    "4. übergaben = uebergen\n"
   ]
  },
  {
   "cell_type": "markdown",
   "metadata": {},
   "source": [
    "##### Schreibe ein Programm mit einer Funktion, die zwei Übergabeparameter akzeptiert.\n",
    "1. groesse als float\n",
    "2. gewicht als float\n",
    "3. Die Funktion soll den BMI berechnen und ausgeben, ob die Person Untergewicht, Normalgewicht und Übergewicht hat."
   ]
  },
  {
   "cell_type": "code",
   "execution_count": null,
   "metadata": {},
   "outputs": [],
   "source": [
    "# BMI rechenen\n",
    "\n",
    "def bmiBerechnen(groesse, gewicht):\n",
    "    \n",
    "    bmi = round(gewicht / groesse**2, 2)\n",
    "\n",
    "    if bmi < 18.5:\n",
    "        resp: str = 'Untergewicht'\n",
    "    elif 18.5 < bmi < 25:\n",
    "        ('Normalgewicht')\n",
    "    elif 25 < bmi < 29.9:\n",
    "        resp: str = 'Übergewicht'\n",
    "    else:\n",
    "        resp: str = 'Sie sind Fettleibigkeit!'\n",
    "    \n",
    "    return \"Sie sind {0} mit BMI : {1:.2f}\".format(resp, bmi)\n",
    "\n",
    "\n",
    "groesse = float(input('Bitte geben Sie Ihr Grösse in Meter: '))\n",
    "gewicht = float(input('Bitte geben Sie Ihr Gewicht: '))\n",
    "\n",
    "print(bmiBerechnen(groesse= groesse, gewicht=gewicht))\n"
   ]
  },
  {
   "cell_type": "markdown",
   "metadata": {},
   "source": [
    "Schreibe ein Programm mit einer Funktion, die zwei Übergabeparameter akzeptiert.\n",
    "1. Euro pro Liter als float Bsp. 2.10 Euro\n",
    "2. Anzahl der Liter, die ihr tankt Bsp. 60 Liter\n",
    "In der Funktion muss eine Variable festlegen, wie viele Liter das Auto maximal tanken Bsp. 100 Liter\n",
    "Dir Funktion soll zurückgeben, wie voll der Tank ist Bsp. \"Reserve\" und zu wie viel Prozent der Tank gefüllt ist Bsp. 20%\n",
    "Beide Ausgabe dürfen in einem String stehen.\n",
    "\n",
    "Das Programm\n",
    "Die Funktion\n",
    "Der Funktionsaufruf"
   ]
  },
  {
   "cell_type": "code",
   "execution_count": 20,
   "metadata": {},
   "outputs": [
    {
     "name": "stdout",
     "output_type": "stream",
     "text": [
      "Reserve, bitte tanken!!\tIhr Tank ist 10.0 %\n",
      "Alles ist OK!\tIhr Tank ist 30.0 %\n",
      "Alles ist OK!\tIhr Tank ist 50.0 %\n",
      "Irgendwas ist schief gelaufet!!\tIhr Tank ist 100.0 %\n"
     ]
    }
   ],
   "source": [
    "def getanken(preis, liter_tanken):\n",
    "    \n",
    "    max_tank_in_liter: float = 100.0\n",
    "    gefuelltInProzent = liter_tanken * max_tank_in_liter/100\n",
    "\n",
    "    if gefuelltInProzent <= 10:\n",
    "        result = f'Reserve, bitte tanken!!'\n",
    "    elif 10 < gefuelltInProzent < 100:\n",
    "        result = 'Alles ist OK!'\n",
    "    elif gefuelltInProzent > 100:\n",
    "        result = 'Ab der Werkstadt gehen sollen!'\n",
    "    else:\n",
    "        result = 'Irgendwas ist schief gelaufet!!'\n",
    "        \n",
    "    return result + f\"\\tIhr Tank ist {gefuelltInProzent} %\"\n",
    "\n",
    "print(getanken(2.10, 10))\n",
    "print(getanken(2.10, 30))\n",
    "print(getanken(2.10, 50))\n",
    "print(getanken(2.10, 100))\n"
   ]
  }
 ],
 "metadata": {
  "interpreter": {
   "hash": "1707a6a3bc69415dce5eb158c23e49542084c147ee0520d7867cb149d8032b1c"
  },
  "kernelspec": {
   "display_name": "Python 3.10.1 64-bit",
   "language": "python",
   "name": "python3"
  },
  "language_info": {
   "codemirror_mode": {
    "name": "ipython",
    "version": 3
   },
   "file_extension": ".py",
   "mimetype": "text/x-python",
   "name": "python",
   "nbconvert_exporter": "python",
   "pygments_lexer": "ipython3",
   "version": "3.10.1"
  },
  "orig_nbformat": 4
 },
 "nbformat": 4,
 "nbformat_minor": 2
}
